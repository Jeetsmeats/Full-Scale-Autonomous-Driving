{
  "cells": [
    {
      "cell_type": "markdown",
      "metadata": {
        "id": "view-in-github",
        "colab_type": "text"
      },
      "source": [
        "<a href=\"https://colab.research.google.com/github/Jeetsmeats/Full-Scale-Autonomous-Driving/blob/main/Full_scale_Autonomous_Driving_Jeet.ipynb\" target=\"_parent\"><img src=\"https://colab.research.google.com/assets/colab-badge.svg\" alt=\"Open In Colab\"/></a>"
      ]
    },
    {
      "cell_type": "markdown",
      "source": [
        "# Full-Scale Autonomous Driving: Simulations Based Comparison\n",
        "\n",
        "## Subject: AI4Robotics (ELEN90095)\n",
        "## Authors:\n",
        "- Yusuf Berdan Güzel (1051639)\n",
        "- Gunjeet Singh (1170248)"
      ],
      "metadata": {
        "id": "2VksEwjcIgfd"
      }
    },
    {
      "cell_type": "markdown",
      "metadata": {
        "id": "GDosFab_5dXh"
      },
      "source": [
        "## Install Dependencies (Only on Google Colab)"
      ]
    },
    {
      "cell_type": "code",
      "execution_count": 71,
      "metadata": {
        "colab": {
          "base_uri": "https://localhost:8080/"
        },
        "id": "V_N7W1TU5dXl",
        "outputId": "2993281b-b478-4ee0-ea33-099cf3e0f7c6"
      },
      "outputs": [
        {
          "output_type": "stream",
          "name": "stdout",
          "text": [
            "Requirement already satisfied: osqp in /usr/local/lib/python3.10/dist-packages (0.6.7.post3)\n",
            "Requirement already satisfied: numpy>=1.7 in /usr/local/lib/python3.10/dist-packages (from osqp) (1.26.4)\n",
            "Requirement already satisfied: scipy>=0.13.2 in /usr/local/lib/python3.10/dist-packages (from osqp) (1.13.1)\n",
            "Requirement already satisfied: qdldl in /usr/local/lib/python3.10/dist-packages (from osqp) (0.1.7.post4)\n"
          ]
        }
      ],
      "source": [
        "!pip install -q gymnasium stable_baselines3\n",
        "!pip install osqp"
      ]
    },
    {
      "cell_type": "code",
      "execution_count": 72,
      "metadata": {
        "colab": {
          "base_uri": "https://localhost:8080/"
        },
        "id": "T3yPimmT5dXn",
        "outputId": "0ffc6120-597d-4231-85fd-a82dec0baa6a"
      },
      "outputs": [
        {
          "output_type": "stream",
          "name": "stdout",
          "text": [
            "Cloning into 'ai4r-gym'...\n",
            "remote: Enumerating objects: 194, done.\u001b[K\n",
            "remote: Counting objects: 100% (130/130), done.\u001b[K\n",
            "remote: Compressing objects: 100% (115/115), done.\u001b[K\n",
            "remote: Total 194 (delta 64), reused 27 (delta 10), pack-reused 64 (from 1)\u001b[K\n",
            "Receiving objects: 100% (194/194), 160.29 KiB | 342.00 KiB/s, done.\n",
            "Resolving deltas: 100% (87/87), done.\n",
            "Cloning into 'Full-Scale-Autonomous-Driving'...\n",
            "remote: Enumerating objects: 46, done.\u001b[K\n",
            "remote: Counting objects: 100% (11/11), done.\u001b[K\n",
            "remote: Compressing objects: 100% (10/10), done.\u001b[K\n",
            "remote: Total 46 (delta 1), reused 11 (delta 1), pack-reused 35 (from 1)\u001b[K\n",
            "Receiving objects: 100% (46/46), 96.73 MiB | 15.03 MiB/s, done.\n",
            "Resolving deltas: 100% (9/9), done.\n"
          ]
        }
      ],
      "source": [
        "!git clone https://gitlab.unimelb.edu.au/ai4r/ai4r-gym.git\n",
        "!git clone https://github.com/Jeetsmeats/Full-Scale-Autonomous-Driving.git"
      ]
    },
    {
      "cell_type": "code",
      "execution_count": 73,
      "metadata": {
        "colab": {
          "base_uri": "https://localhost:8080/"
        },
        "id": "oX2pNVFF5dXo",
        "outputId": "f19e77dd-bc3c-421f-d2bd-1d52b5fbb536"
      },
      "outputs": [
        {
          "output_type": "stream",
          "name": "stdout",
          "text": [
            "/content/ai4r-gym/ai4r-gym\n"
          ]
        }
      ],
      "source": [
        "%cd ai4r-gym"
      ]
    },
    {
      "cell_type": "markdown",
      "metadata": {
        "id": "-GJSwiVG5dXo"
      },
      "source": [
        "## Library Imports:"
      ]
    },
    {
      "cell_type": "code",
      "execution_count": 74,
      "metadata": {
        "id": "Zcl4DigK5dXo"
      },
      "outputs": [],
      "source": [
        "import ai4rgym\n",
        "from ai4rgym.envs.road import Road\n",
        "import gymnasium as gym\n",
        "import numpy as np\n",
        "import random\n",
        "from stable_baselines3 import PPO, SAC, DDPG\n",
        "from utils import ensure_dir, ensure_dirs, eval_model, evaluate_policy\n",
        "from utils import plot_rewards, plot_and_animate_trajectory\n",
        "from evaluation.evaluation_for_autonomous_driving import simulate_policy\n",
        "from evaluation.evaluation_for_autonomous_driving import plot_results_from_time_series_dict\n",
        "import matplotlib.pyplot as plt\n",
        "import osqp\n",
        "import numpy as np\n",
        "import scipy as sp\n",
        "from scipy import sparse, linalg"
      ]
    },
    {
      "cell_type": "markdown",
      "metadata": {
        "id": "oodcAOp15dXp"
      },
      "source": [
        "## Environment Settings:"
      ]
    },
    {
      "cell_type": "code",
      "execution_count": 75,
      "metadata": {
        "id": "GmkPGGI85dXp"
      },
      "outputs": [],
      "source": [
        "# SPECIFY THE VEHCILE PARAMETERS\n",
        "bicycle_model_parameters = {\n",
        "    \"Lf\" : 0.55*2.875,\n",
        "    \"Lr\" : 0.45*2.875,\n",
        "    \"m\"  : 2000.0,\n",
        "    \"Iz\" : (1.0/12.0) * 2000.0 * (4.692**2+1.850**2),\n",
        "    \"Cm\" : (1.0/100.0) * (1.0 * 400.0 * 9.0) / 0.2286,\n",
        "    \"Cd\" : 0.5 * 0.24 * 2.2204 * 1.202,\n",
        "    \"delta_offset\" : 0 * np.pi/180,\n",
        "    \"delta_request_max\" : 45 * np.pi/180,\n",
        "    \"Ddelta_lower_limit\" : -45 * np.pi/180,\n",
        "    \"Ddelta_upper_limit\" :  45 * np.pi/180,\n",
        "    \"v_transition_min\": 3.0,    # v_transition_min = 3.0 m/s\n",
        "    \"v_transition_max\": 5.0,    # v_transition_max = 5.0 m/s\n",
        "    \"body_len_f\" : (0.55*2.875) * 1.5,\n",
        "    \"body_len_r\" : (0.45*2.875) * 1.5,\n",
        "    \"body_width\" : 2.50,\n",
        "}\n",
        "\n",
        "# SPECIFY THE ROAD\n",
        "\n",
        "# This road will not be used for training / evaluation\n",
        "# this is just kept in place to initialize the environment\n",
        "road_elements_list = [\n",
        "    {\"type\":\"straight\", \"length\":100.0},\n",
        "    {\"type\":\"curved\", \"curvature\":1/800.0, \"angle_in_degrees\":15.0},\n",
        "    {\"type\":\"straight\", \"length\":100.0},\n",
        "    {\"type\":\"curved\", \"curvature\":-1/400.0, \"angle_in_degrees\":30.0},\n",
        "    {\"type\":\"straight\", \"length\":100.0},\n",
        "]\n",
        "\n",
        "# SPECIFY THE NUMERICAL INTEGRATION DETAILS\n",
        "numerical_integration_parameters = {\n",
        "    \"method\" : \"rk4\",\n",
        "    \"Ts\" : 0.05,\n",
        "    \"num_steps_per_Ts\" : 1,\n",
        "}\n",
        "\n",
        "# SPECIFY THE INITIAL STATE DISTRIBUTION\n",
        "\n",
        "py_init_min = -1.0\n",
        "py_init_max =  1.0\n",
        "\n",
        "v_init_min_in_kmh = 30.0\n",
        "v_init_max_in_kmh = 40.0\n",
        "\n",
        "py_init_min = -1.0\n",
        "py_init_max =  1.0\n",
        "\n",
        "initial_state_bounds = {\n",
        "    \"px_init_min\" : 0.0,\n",
        "    \"px_init_max\" : 0.0,\n",
        "    \"py_init_min\" : py_init_min,\n",
        "    \"py_init_max\" : py_init_max,\n",
        "    \"theta_init_min\" : 0.0,\n",
        "    \"theta_init_max\" : 0.0,\n",
        "    \"vx_init_min\" : v_init_min_in_kmh * (1.0/3.6),\n",
        "    \"vx_init_max\" : v_init_max_in_kmh * (1.0/3.6),\n",
        "    \"vy_init_min\" : 0.0,\n",
        "    \"vy_init_max\" : 0.0,\n",
        "    \"omega_init_min\" : 0.0,\n",
        "    \"omega_init_max\" : 0.0,\n",
        "    \"delta_init_min\" : 0.0,\n",
        "    \"delta_init_max\" : 0.0,\n",
        "}\n",
        "\n",
        "# SPECIFY THE TERMINATION PARAMETERS\n",
        "termination_parameters = {\n",
        "    \"speed_lower_bound\"  :  0.0,\n",
        "    \"speed_upper_bound\"  :  (200.0/3.6),\n",
        "    \"distance_to_closest_point_upper_bound\"  :  20.0,\n",
        "    \"reward_speed_lower_bound\"  :  0.0,\n",
        "    \"reward_speed_upper_bound\"  :  0.0,\n",
        "    \"reward_distance_to_closest_point_upper_bound\"  :  0.0,\n",
        "}"
      ]
    },
    {
      "cell_type": "markdown",
      "metadata": {
        "id": "rent1DP65dXr"
      },
      "source": [
        "## Setting Observations:"
      ]
    },
    {
      "cell_type": "code",
      "execution_count": 76,
      "metadata": {
        "id": "4vqaFOLs5dXr"
      },
      "outputs": [],
      "source": [
        "# SPECIFY THE OBSERVATION PARAMETERS\n",
        "observation_parameters = {\n",
        "    \"should_include_ground_truth_px\"                       :  \"info\",\n",
        "    \"should_include_ground_truth_py\"                       :  \"info\",\n",
        "    \"should_include_ground_truth_theta\"                    :  \"info\",\n",
        "    \"should_include_ground_truth_vx\"                       :  \"info\",\n",
        "    \"should_include_ground_truth_vy\"                       :  \"info\",\n",
        "    \"should_include_ground_truth_omega\"                    :  \"info\",\n",
        "    \"should_include_ground_truth_delta\"                    :  \"info\",\n",
        "    \"should_include_road_progress_at_closest_point\"        :  \"obs\",\n",
        "    \"should_include_vx_sensor\"                             :  \"obs\",\n",
        "    \"should_include_distance_to_closest_point\"             :  \"obs\",\n",
        "    \"should_include_heading_angle_relative_to_line\"        :  \"obs\",\n",
        "    \"should_include_heading_angular_rate_gyro\"             :  \"obs\",\n",
        "    \"should_include_closest_point_coords_in_body_frame\"    :  \"info\",\n",
        "    \"should_include_look_ahead_line_coords_in_body_frame\"  :  \"info\",\n",
        "    \"should_include_road_curvature_at_closest_point\"       :  \"obs\",\n",
        "    \"should_include_look_ahead_road_curvatures\"            :  \"info\",\n",
        "    \"scaling_for_ground_truth_px\"                       :  1.0,\n",
        "    \"scaling_for_ground_truth_py\"                       :  1.0,\n",
        "    \"scaling_for_ground_truth_theta\"                    :  1.0,\n",
        "    \"scaling_for_ground_truth_vx\"                       :  1.0,\n",
        "    \"scaling_for_ground_truth_vy\"                       :  1.0,\n",
        "    \"scaling_for_ground_truth_omega\"                    :  1.0,\n",
        "    \"scaling_for_ground_truth_delta\"                    :  1.0,\n",
        "    \"scaling_for_road_progress_at_closest_point\"        :  1.0,\n",
        "    \"scaling_for_vx_sensor\"                             :  1.0,\n",
        "    \"scaling_for_distance_to_closest_point\"             :  1.0,\n",
        "    \"scaling_for_heading_angle_relative_to_line\"        :  1.0,\n",
        "    \"scaling_for_heading_angular_rate_gyro\"             :  1.0,\n",
        "    \"scaling_for_closest_point_coords_in_body_frame\"    :  1.0,\n",
        "    \"scaling_for_look_ahead_line_coords_in_body_frame\"  :  1.0,\n",
        "    \"scaling_for_road_curvature_at_closest_point\"       :  1.0,\n",
        "    \"scaling_for_look_ahead_road_curvatures\"            :  1.0,\n",
        "\n",
        "    \"vx_sensor_bias\"    : 0.0,\n",
        "    \"vx_sensor_stddev\"  : 0.1,\n",
        "\n",
        "    \"distance_to_closest_point_bias\"    :  0.0,\n",
        "    \"distance_to_closest_point_stddev\"  :  0.01,\n",
        "\n",
        "    \"heading_angle_relative_to_line_bias\"    :  0.0,\n",
        "    \"heading_angle_relative_to_line_stddev\"  :  0.01,\n",
        "\n",
        "    \"heading_angular_rate_gyro_bias\"    :  0.0,\n",
        "    \"heading_angular_rate_gyro_stddev\"  :  0.01,\n",
        "\n",
        "    \"closest_point_coords_in_body_frame_bias\"    :  0.0,\n",
        "    \"closest_point_coords_in_body_frame_stddev\"  :  0.0,\n",
        "\n",
        "    \"look_ahead_line_coords_in_body_frame_bias\"    :  0.0,\n",
        "    \"look_ahead_line_coords_in_body_frame_stddev\"  :  0.0,\n",
        "\n",
        "    \"road_curvature_at_closest_point_bias\"    :  0.0,\n",
        "    \"road_curvature_at_closest_point_stddev\"  :  0.0,\n",
        "\n",
        "    \"look_ahead_road_curvatures_bias\"    :  0.0,\n",
        "    \"look_ahead_road_curvatures_stddev\"  :  0.0,\n",
        "\n",
        "    \"look_ahead_line_coords_in_body_frame_distance\"    :  100.0,\n",
        "    \"look_ahead_line_coords_in_body_frame_num_points\"  :  10,\n",
        "}"
      ]
    },
    {
      "cell_type": "markdown",
      "metadata": {
        "id": "QeqIgZDf5dXs"
      },
      "source": [
        "## Environment Creation:\n",
        "- Generate a new environment"
      ]
    },
    {
      "cell_type": "code",
      "execution_count": 77,
      "metadata": {
        "id": "lkG0ROGv5dXs"
      },
      "outputs": [],
      "source": [
        "def create_env(road_randomization_params=None, road_elements_list=None):\n",
        "    # If road_elements_list is provided, use it directly\n",
        "    if road_elements_list is not None:\n",
        "        road_elements = road_elements_list\n",
        "    else:\n",
        "        # Generate random road elements based on randomization parameters\n",
        "        domain_randomizer = DomainRandomizationWrapper(None, road_randomization_params)\n",
        "        road_elements = domain_randomizer.generate_random_road_elements_list()\n",
        "\n",
        "    env = gym.make(\n",
        "        \"ai4rgym/autonomous_driving_env\",\n",
        "        render_mode=None,\n",
        "        bicycle_model_parameters=bicycle_model_parameters,\n",
        "        road_elements_list=road_elements,\n",
        "        numerical_integration_parameters=numerical_integration_parameters,\n",
        "        termination_parameters=termination_parameters,\n",
        "        initial_state_bounds=initial_state_bounds,\n",
        "        observation_parameters=observation_parameters,\n",
        "    )\n",
        "\n",
        "    # Set the integration method and time step\n",
        "    Ts_sim = 0.05\n",
        "    integration_method = \"rk4\"\n",
        "    env.unwrapped.set_integration_method(integration_method)\n",
        "    env.unwrapped.set_integration_Ts(Ts_sim)\n",
        "\n",
        "    # Set the road condition\n",
        "    env.unwrapped.set_road_condition(road_condition=\"wet\")\n",
        "\n",
        "    # Rescale actions and wrap the environment\n",
        "    env = gym.wrappers.RescaleAction(env, min_action=-1, max_action=1)\n",
        "\n",
        "    # If using domain randomization, wrap the environment\n",
        "    if road_randomization_params is not None:\n",
        "        env = DomainRandomizationWrapper(env, road_randomization_params)\n",
        "\n",
        "    return env"
      ]
    },
    {
      "cell_type": "markdown",
      "source": [
        "## RTI-MPC Policy\n",
        "\n",
        "- Real-time Iteration Model Predictive Control Policy\n",
        "- Included system dynamics and state-space model.\n",
        "- Model failed to solve."
      ],
      "metadata": {
        "id": "4udW43KfGSIG"
      }
    },
    {
      "cell_type": "code",
      "source": [
        "class RTIMPC:\n",
        "\n",
        "    def __init__(self, bicycle_model_parameters, Q, R,\n",
        "                 s_initial, s_lower, s_upper, Ts, Nsim, state_ref, env):\n",
        "\n",
        "        # State and action dimensions\n",
        "        self.n_s = 4\n",
        "        self.n_a = 2\n",
        "\n",
        "        # Initial State\n",
        "        self.s_initial = s_initial\n",
        "\n",
        "        # Number of simulation points\n",
        "        self.Nsim = Nsim\n",
        "\n",
        "        # Define Model Parameters\n",
        "        self.bicycle_model_parameters = bicycle_model_parameters\n",
        "        self.Ts = Ts                  # Sampling Period\n",
        "\n",
        "        # Prediction/Control Horizon\n",
        "        self.N = 20\n",
        "\n",
        "        # Sampling Frequency\n",
        "        self.Ts = 0.05\n",
        "\n",
        "        # Quadratic programmer\n",
        "        self.qp = osqp.OSQP()\n",
        "\n",
        "        # Cost Matrices\n",
        "        self.Q = sparse.diags(Q, format=\"csc\", dtype=np.float32)\n",
        "        self.R = sparse.diags(R, format=\"csc\", dtype=np.float32)\n",
        "\n",
        "        # Define constraints\n",
        "        self.s_lower = np.array(s_lower)\n",
        "        self.s_upper = np.array(s_upper)\n",
        "        self.a_lower = np.array([[-100], [np.deg2rad(-45)]])\n",
        "        self.a_upper = np.array([[100], [np.deg2rad(45)]])\n",
        "\n",
        "        # Model Parameters\n",
        "        self.Cd = self.bicycle_model_parameters[\"Cd\"]\n",
        "        self.Cm = self.bicycle_model_parameters[\"Cm\"]\n",
        "        self.Lf = self.bicycle_model_parameters[\"Lf\"]\n",
        "        self.Lr = self.bicycle_model_parameters[\"Lr\"]\n",
        "        self.m = self.bicycle_model_parameters[\"m\"]\n",
        "\n",
        "        # State reference value\n",
        "        self.p_ref = state_ref[0]\n",
        "        self.d_ref = state_ref[1]\n",
        "        self.mu_ref = state_ref[2]\n",
        "        self.v_ref =  state_ref[3]\n",
        "\n",
        "        # Lower and upper bounds of box constraints\n",
        "        self.sa_lower = np.vstack([ self.s_lower , self.a_lower ])\n",
        "        self.sa_upper = np.vstack([ self.s_upper , self.a_upper ])\n",
        "        self.x_lower = np.vstack([ np.kron(np.ones((self.N,1),dtype=np.float32), self.sa_lower), self.s_lower ])\n",
        "        self.x_upper = np.vstack([ np.kron(np.ones((self.N,1),dtype=np.float32), self.sa_upper), self.s_upper ])\n",
        "\n",
        "        # Pre-allocate matrices for storing the results\n",
        "        self.state_trajectory = np.empty((self.n_s, self.Nsim + 1), dtype=np.float32)\n",
        "        self.action_trajectory = np.empty((self.n_s, self.Nsim), dtype=np.float32)\n",
        "\n",
        "        # Set the initial condition in the first column\n",
        "        self.state_trajectory[:, 0] = [\n",
        "            self.s_initial[0].item() - self.p_ref.item(),\n",
        "            self.s_initial[0].item() - self.d_ref.item(),\n",
        "            self.s_initial[0].item() - self.mu_ref.item(),\n",
        "            self.s_initial[0].item() - self.v_ref.item()\n",
        "        ]\n",
        "\n",
        "        # Set the initial state as the current state\n",
        "        self.s_current = self.s_initial\n",
        "        self.i = 1\n",
        "\n",
        "        # Define the environment\n",
        "        self.env = env\n",
        "\n",
        "    def compute_action(self, observation, info_dict, terminated, truncated):\n",
        "\n",
        "      a_current = np.zeros((1, 2))\n",
        "\n",
        "      if self.i != 1:\n",
        "\n",
        "        # Current State measurements\n",
        "        p = observation[\"road_progress_at_closest_point\"][0]\n",
        "        d = observation[\"distance_to_closest_point\"][0]\n",
        "        mu = observation[\"heading_angle_relative_to_line\"][0]\n",
        "        v = observation[\"vx_sensor\"][0]\n",
        "\n",
        "        self.s_current = [p - self.p_ref, d - self.d_ref, mu - self.mu_ref, v - self.v_ref]\n",
        "\n",
        "      curvature = observation[\"road_curvature_at_closest_point\"][0]\n",
        "\n",
        "      x_eq = [0, 0, 0, self.v_ref]\n",
        "      u_eq = [0, 0]\n",
        "\n",
        "      # Get the curvature\n",
        "      kappa = self.env.unwrapped.road.convert_progression_to_curvature(np.array([curvature]))\n",
        "\n",
        "      # Discrete-time matrices\n",
        "      A, B, Aeq, Beq = self.discrete_time_dynamics(x_eq, u_eq, kappa)\n",
        "      A_for_osqp = sparse.vstack([ Aeq , sparse.eye(self.N*(self.n_s+self.n_a)+self.n_s,format=\"csc\")],format=\"csc\")\n",
        "      l_for_osqp = np.vstack([ Beq , self.x_lower ])\n",
        "      u_for_osqp = np.vstack([ Beq , self.x_upper ])\n",
        "\n",
        "      # DARE Solution\n",
        "      P = self.solve_discrete_are(A, B, self.Q, self.R)\n",
        "\n",
        "      # Objective function matrix\n",
        "      QR = sparse.block_diag([self.Q, self.R])\n",
        "      H = sparse.block_diag([ sparse.kron(sparse.eye(self.N,format=\"csc\"), QR), P],format=\"csc\")\n",
        "\n",
        "      # Set up the QP solver for each time step.\n",
        "      self.qp.setup(P=2*H,\n",
        "        q=np.zeros(H.shape[1]),\n",
        "        A=A_for_osqp,\n",
        "        l=l_for_osqp,\n",
        "        u=u_for_osqp,\n",
        "        verbose=False,\n",
        "      )\n",
        "\n",
        "      # Update the constraint vector with the current state\n",
        "      l_for_osqp[0:self.n_s] = self.s_current\n",
        "      u_for_osqp[0:self.n_s] = self.s_current\n",
        "\n",
        "      # Update the OSQP object with the current state\n",
        "      self.qp.update(l=l_for_osqp, u=u_for_osqp)\n",
        "\n",
        "      res = self.qp.solve()\n",
        "\n",
        "      if res.info.status != 'solved':\n",
        "        raise ValueError('QSQP did not solve the problem')\n",
        "\n",
        "      # Update the constraint vector with the current state\n",
        "      l_for_osqp[0:self.n_s] = self.s_current\n",
        "      u_for_osqp[0:self.n_s] = self.s_current\n",
        "\n",
        "      # Update the OSQP object with the current state\n",
        "      self.qp.update(l=l_for_osqp, u=u_for_osqp)\n",
        "\n",
        "      # Solve the optimization program\n",
        "      osqp_result = self.qp.solve()\n",
        "\n",
        "      # Extract the status string\n",
        "      osqp_status_string = osqp_result.info.status\n",
        "\n",
        "      # Display the status if it is anything other than success\n",
        "      if (osqp_status_string != \"solved\"):\n",
        "        raise ValueError(\"OSQP did not solve the problem, returned status = \" + osqp_status_string)\n",
        "\n",
        "      # Extract the optimal solution\n",
        "      x_optimal = osqp_result.x\n",
        "\n",
        "      # Extract the first action from the optimal solution\n",
        "      a_current[:][0] = x_optimal[self.n_s: (self.n_s + self.n_a)]\n",
        "\n",
        "      # Compute the next state\n",
        "      s_next = A @ self.s_current + B @ a_current\n",
        "\n",
        "      # Store the results\n",
        "      self.state_trajectory[:][self.i+1] = s_next[:,0]\n",
        "      self.action_trajectory[:][self.i] = a_current[:,0]\n",
        "      # self.x_optimal_trajectory[:][self.i] = x_optimal\n",
        "      # self.solver_run_times[self.i] = osqp_result.info.run_time\n",
        "      # self.solve_status_val[self.i] = osqp_result.info.status_val\n",
        "\n",
        "      # Iterate the current state\n",
        "      self.s_current = s_next\n",
        "      self.i += 1\n",
        "\n",
        "      F_action = a_current[0, 0]\n",
        "      steer_action = a_current[1, 0]\n",
        "\n",
        "      # Return the actions as a numpy array\n",
        "      return np.array([F_action, steer_action], dtype=np.float32)\n",
        "\n",
        "    def solve_discrete_are(self, A, B, Q, R):\n",
        "      \"\"\"\n",
        "      Solve the discrete Ricatti Equation.\n",
        "      \"\"\"\n",
        "      # Riccati solution\n",
        "      P_dense = linalg.solve_discrete_are(A.toarray(),B.toarray(),Q.toarray(),R.toarray())\n",
        "\n",
        "      # Convert P to be in sparse format\n",
        "      P = sparse.csc_matrix(P_dense, shape=(self.n_s, self.n_s), dtype=np.float32)\n",
        "\n",
        "      # DARE Solution\n",
        "      return P\n",
        "\n",
        "    def discrete_time_dynamics(self, x_eq, u_eq, kappa):\n",
        "      \"\"\"\n",
        "      Derive discrete time dynamics\n",
        "      \"\"\"\n",
        "      # Set Equilibrium Points\n",
        "      p_eq = x_eq[0]\n",
        "      d_eq = x_eq[1]\n",
        "      mu_eq = x_eq[2]\n",
        "      v_eq = x_eq[3]\n",
        "\n",
        "      # Action Equilibrium Points\n",
        "      F_eq = u_eq[0]\n",
        "      steer_eq = u_eq[1]\n",
        "\n",
        "      # State Dynamics\n",
        "      A12 = -(kappa * v_eq * np.cos(mu_eq)) / (np.power((1 + d_eq * kappa), 2))\n",
        "      A13 = -(v_eq * np.sin(mu_eq)) / (1 + d_eq * kappa)\n",
        "      A14 = (np.cos(mu_eq)) / (1 + d_eq * kappa)\n",
        "\n",
        "      A23 = v_eq * np.cos(mu_eq)\n",
        "      A24 = np.sin(mu_eq)\n",
        "\n",
        "      A32 = ((kappa ** 2) * v_eq * np.cos(mu_eq)) / (np.power((1 + d_eq * kappa), 2))\n",
        "      A33 = (kappa * v_eq * np.sin(mu_eq)) / (1 + d_eq * kappa)\n",
        "      A34 = ((np.tan(steer_eq)) / (self.Lr)) - ((kappa * np.cos(mu_eq)) / (1 + d_eq * kappa))\n",
        "\n",
        "      A44 = (2 / self.m) * self.Cd * v_eq * np.sign(v_eq)\n",
        "\n",
        "      A12 = A12.item()\n",
        "      A13 = A13.item()\n",
        "      A14 = A14.item()\n",
        "      A23 = A23.item()\n",
        "      A24 = A24.item()\n",
        "      A32 = A32.item()\n",
        "      A33 = A33.item()\n",
        "      A34 = A34.item()\n",
        "      A44 = A44.item()\n",
        "\n",
        "      # Input Dynamics\n",
        "      B32 = (v_eq / self.Lr) * (1 / np.power(np.cos(steer_eq), 2))\n",
        "      B41 = (self.Cm / self.m) * v_eq * np.sign(v_eq)\n",
        "\n",
        "      B32 = B32.item()\n",
        "      B41 = B41.item()\n",
        "\n",
        "      # Continuous State-Space\n",
        "      Ac = np.array([\n",
        "      [ 0.,  A12, A13, A14],\n",
        "      [ 0., 0., A23, A24],\n",
        "      [ 0., A32, A33, A34],\n",
        "      [ 0., 0., 0., A44]\n",
        "      ], dtype=np.float32)\n",
        "\n",
        "      Bc = np.array([\n",
        "      [ 0., 0.],\n",
        "      [ 0., 0.],\n",
        "      [ 0., B32],\n",
        "      [ B41, 0.]\n",
        "      ], dtype=np.float32)\n",
        "\n",
        "      # Compute the discrete time dynamics matrices\n",
        "      # > Stack the matrices\n",
        "      Mc = np.vstack([ np.hstack([Ac,Bc]) , np.zeros((self.n_a,self.n_s+self.n_a),\n",
        "      dtype=np.float32) ])\n",
        "\n",
        "      # Matrix Exponential\n",
        "      Md = linalg.expm( Mc * self.Ts )\n",
        "\n",
        "      # Discrete-time State Space\n",
        "      Ad = Md[0:self.n_s,0:self.n_s]\n",
        "      Bd = Md[0:self.n_s,self.n_s:(self.n_s+self.n_a)]\n",
        "\n",
        "      # Convert Ad and Bd to be in sparse format\n",
        "      A = sparse.csc_matrix(Ad, shape=(self.n_s,self.n_s), dtype=np.float32)\n",
        "      B = sparse.csc_matrix(Bd, shape=(self.n_s,self.n_a), dtype=np.float32)\n",
        "\n",
        "      # Matrix for all time steps of the dynamics\n",
        "      AB = sparse.hstack([A,B])\n",
        "\n",
        "      negI_zero_block = sparse.hstack([ -sparse.eye(self.n_s,format=\"csc\"), sparse.csc_matrix((self.n_s,self.n_a)) ])\n",
        "      zero_negI_col = sparse.vstack([sparse.csc_matrix(((self.N-1)*self.n_s,self.n_s)), -sparse.eye(self.n_s,format=\"csc\")])\n",
        "      ABI_stacked = \\\n",
        "        sparse.hstack([ sparse.kron(sparse.eye(self.N,format=\"csc\") , AB) ,\n",
        "      sparse.csc_matrix((self.N*self.n_s,self.n_s)) ]) \\\n",
        "        + \\\n",
        "        sparse.hstack([ sparse.kron(sparse.eye(self.N,k=1,format=\"csc\"),negI_zero_block) ,\n",
        "      zero_negI_col ])\n",
        "\n",
        "      # Matrix for selecting the first state\n",
        "      s0_selector = sparse.hstack([ sparse.eye(self.n_s,format=\"csc\"), sparse.csc_matrix((self.n_s,self.N*(self.n_s+self.n_a)))])\n",
        "\n",
        "      # Stacking the above two together\n",
        "      Aeq = sparse.vstack([ s0_selector , ABI_stacked ])\n",
        "      Beq = np.vstack([ self.s_initial , np.zeros((self.N * self.n_s,1)) ])\n",
        "      return A, B, Aeq, Beq"
      ],
      "metadata": {
        "id": "fb41UE2XGcCP"
      },
      "execution_count": null,
      "outputs": []
    },
    {
      "cell_type": "markdown",
      "source": [
        "## Baseline Policy Implementation\n"
      ],
      "metadata": {
        "id": "tswsDsi-qX52"
      }
    },
    {
      "cell_type": "code",
      "source": [
        "from collections import deque\n",
        "\n",
        "class BaselinePolicyRewardWrapper(gym.RewardWrapper):\n",
        "\n",
        "    def __init__(self, env):\n",
        "        super(BaselinePolicyRewardWrapper, self).__init__(env)\n",
        "\n",
        "        # Performance metric initialisation\n",
        "        self.total_distance = 0\n",
        "        self.total_speed = 0\n",
        "        self.min_speed = 0\n",
        "        self.max_speed = 0\n",
        "        self.time_above_vlimit = 0\n",
        "        self.time_above_dlimit = 0\n",
        "        self.n_speed_violations = 0\n",
        "        self.n_distance_violations = 0\n",
        "        self.total_steer = 0\n",
        "        self.total_ang_velocity = 0\n",
        "        self.duration_of_speed_limit = []\n",
        "        self.duration_of_distance_limit = []\n",
        "\n",
        "        self.curr_time_over_dlimit = 0\n",
        "        self.curr_time_over_tlimit = 0\n",
        "\n",
        "        self.distance_flag = False\n",
        "        self.speed_flag = False\n",
        "\n",
        "        self.max_dist = 0\n",
        "\n",
        "        self.vmax = 30.0 / 3.6\n",
        "        self.Ts = 0.05\n",
        "\n",
        "        self.N = 1\n",
        "\n",
        "        self.omega_prev = 0\n",
        "        self.progress = 0\n",
        "\n",
        "        self.velocities = np.array([])\n",
        "\n",
        "    def get_performance(self):\n",
        "        avg_speed = self.total_speed / self.N\n",
        "        avg_distance = self.total_distance / self.N\n",
        "        avg_steer = self.total_steer / self.N\n",
        "        avg_ang_velocity = self.total_ang_velocity / self.N\n",
        "\n",
        "        min_speed = self.min_speed\n",
        "        max_speed = self.max_speed\n",
        "        max_distance = self.max_dist\n",
        "        time_above_vlimit = self.time_above_vlimit\n",
        "        time_above_dlimit = self.time_above_dlimit\n",
        "        n_speed_violations = self.n_speed_violations\n",
        "        n_distance_violations = self.n_distance_violations\n",
        "\n",
        "        avg_speed_violation_time = np.mean(self.duration_of_speed_limit)\n",
        "        avg_distance_violation_time = np.mean(self.duration_of_distance_limit)\n",
        "\n",
        "        std_speed = np.std(self.velocities)\n",
        "\n",
        "        return {\n",
        "            \"avg_speed\": avg_speed,\n",
        "            \"avg_distance\": avg_distance,\n",
        "            \"avg_steer\": avg_steer,\n",
        "            \"avg_ang_velocity\": avg_ang_velocity,\n",
        "            \"min_speed\": min_speed,\n",
        "            \"max_speed\": max_speed,\n",
        "            \"max_distance\": max_distance,\n",
        "            \"time_above_vlimit\": time_above_vlimit,\n",
        "            \"time_above_dlimit\": time_above_dlimit,\n",
        "            \"n_speed_violations\": n_speed_violations,\n",
        "            \"n_distance_violations\": n_distance_violations,\n",
        "            \"avg_speed_violation_time\": avg_speed_violation_time,\n",
        "            \"avg_distance_violation_time\": avg_distance_violation_time,\n",
        "            \"std_speed\": std_speed\n",
        "        }\n",
        "\n",
        "    def step(self, action):\n",
        "        \"\"\"\n",
        "        RL Policy time step.\n",
        "        \"\"\"\n",
        "        observation, reward, terminated, truncated, info = self.env.step(action)\n",
        "        steer_angle = action[1]\n",
        "\n",
        "        # Observations\n",
        "        distance_to_line = abs(observation[\"distance_to_closest_point\"][0])\n",
        "        vx = observation[\"vx_sensor\"][0]\n",
        "        theta = observation[\"heading_angle_relative_to_line\"][0]\n",
        "        omega = observation[\"heading_angular_rate_gyro\"][0]\n",
        "        progress = observation[\"road_progress_at_closest_point\"][0]\n",
        "\n",
        "       # Calculate angular acceleration\n",
        "        alpha = (omega - self.omega_prev) / self.Ts\n",
        "        omega_prev = omega\n",
        "\n",
        "        if distance_to_line < 1 and abs(theta) < np.pi / 3:\n",
        "          reward += 0.15\n",
        "        else:\n",
        "          reward -= 0.1\n",
        "\n",
        "        if vx >= (20.0 / 3.6) and vx <= (60.0 / 3.6):\n",
        "          reward += 0.5\n",
        "\n",
        "        if vx < (20.0 / 3.6) and vx > (80.0 / 3.6):\n",
        "          reward -= 0.2\n",
        "\n",
        "        if omega < 0.5:\n",
        "          reward += 0.5\n",
        "\n",
        "        if progress + 3 > self.progress:\n",
        "          reward += 0.5\n",
        "\n",
        "        self.progress = progress\n",
        "\n",
        "        self.performance_metrics(distance_to_line, vx, theta, omega, progress, steer_angle)\n",
        "        self.N += 1\n",
        "        return observation, reward, terminated, truncated, info\n",
        "\n",
        "    def performance_metrics(self, distance_to_line, vx, theta, omega, progress, steer):\n",
        "        self.total_distance += distance_to_line\n",
        "        self.min_speed = min(self.min_speed, vx)\n",
        "        self.max_speed = max(self.max_speed, vx)\n",
        "\n",
        "        self.max_dist = max(self.max_dist, distance_to_line)\n",
        "\n",
        "        if vx > self.vmax and not self.speed_flag:\n",
        "            self.speed_flag = True\n",
        "            self.n_speed_violations += 1\n",
        "        elif vx <= self.vmax and self.speed_flag:\n",
        "            self.speed_flag = False\n",
        "            self.duration_of_speed_limit.append(self.curr_time_over_tlimit)\n",
        "            self.curr_time_over_tlimit = 0\n",
        "\n",
        "        if distance_to_line > 1 and not self.speed_flag:\n",
        "            self.time_above_dlimit += self.Ts\n",
        "            self.n_distance_violations += 1\n",
        "        elif distance_to_line <= 1 and self.distance_flag:\n",
        "            self.distance_flag = False\n",
        "            self.duration_of_distance_limit.append(self.curr_time_over_dlimit)\n",
        "            self.curr_time_over_dlimit = 0\n",
        "\n",
        "        if self.speed_flag:\n",
        "          self.time_above_vlimit += self.Ts\n",
        "          self.curr_time_over_tlimit += self.Ts\n",
        "\n",
        "        if self.distance_flag:\n",
        "          self.time_above_dlimit += self.Ts\n",
        "          self.curr_time_over_dlimit += self.Ts\n",
        "\n",
        "        self.total_steer += abs(steer)\n",
        "        self.total_ang_velocity += abs(omega)\n",
        "\n",
        "        self.total_speed += abs(vx)\n",
        "\n",
        "        self.velocities = np.array(vx)\n"
      ],
      "metadata": {
        "id": "UBWCnyAk-2hW"
      },
      "execution_count": 78,
      "outputs": []
    },
    {
      "cell_type": "markdown",
      "metadata": {
        "id": "cg-kKNzO5dXt"
      },
      "source": [
        "## Domain Randomization Wrapper:\n",
        "- Designate a domain randomization wrapper for random generation of the terrain in training.\n",
        "\n"
      ]
    },
    {
      "cell_type": "code",
      "execution_count": 79,
      "metadata": {
        "id": "cK81Mgiz5dXt"
      },
      "outputs": [],
      "source": [
        "class DomainRandomizationWrapper(gym.Wrapper):\n",
        "    def __init__(self, env, road_randomization_params=None):\n",
        "        super(DomainRandomizationWrapper, self).__init__(env)\n",
        "        self.road_randomization_params = road_randomization_params\n",
        "\n",
        "    def generate_random_road_elements_list(self):\n",
        "        params = self.road_randomization_params or {}\n",
        "        num_elements_range = params.get('num_elements_range', (2, 5))\n",
        "        straight_length_range = params.get('straight_length_range', (50.0, 200.0))\n",
        "        curvature_range = params.get('curvature_range', (-1/500.0, 1/500.0))\n",
        "        angle_range = params.get('angle_range', (10.0, 60.0))\n",
        "\n",
        "        road_elements = []\n",
        "        num_elements = random.randint(*num_elements_range)\n",
        "\n",
        "        for _ in range(num_elements):\n",
        "            element_type = random.choice(['straight', 'curved'])\n",
        "            if element_type == 'straight':\n",
        "                length = random.uniform(*straight_length_range)\n",
        "                road_elements.append({\"type\": \"straight\", \"length\": length})\n",
        "            else:\n",
        "                curvature = random.uniform(*curvature_range)\n",
        "                angle = random.uniform(*angle_range)\n",
        "                road_elements.append({\n",
        "                    \"type\": \"curved\",\n",
        "                    \"curvature\": curvature,\n",
        "                    \"angle_in_degrees\": angle\n",
        "                })\n",
        "        return road_elements\n",
        "\n",
        "    def reset(self, **kwargs):\n",
        "        # Generate a new random road\n",
        "        road_elements_list = self.generate_random_road_elements_list()\n",
        "        self.env.unwrapped.road_elements_list = road_elements_list\n",
        "        self.env.unwrapped.road = Road(epsilon_c=(1/10000), road_elements_list=road_elements_list)\n",
        "        self.env.unwrapped.total_road_length = self.env.unwrapped.road.get_total_length()\n",
        "        self.env.unwrapped.total_road_length_for_termination = max(\n",
        "            self.env.unwrapped.total_road_length - 0.1,\n",
        "            0.9999 * self.env.unwrapped.total_road_length\n",
        "        )\n",
        "        # Call the original reset method\n",
        "        return self.env.reset(**kwargs)"
      ]
    },
    {
      "cell_type": "markdown",
      "metadata": {
        "id": "1RL8tJMk5dXt"
      },
      "source": [
        "### Visualizing Random Roads:"
      ]
    },
    {
      "cell_type": "markdown",
      "metadata": {
        "id": "tlqslvpT5dXu"
      },
      "source": [
        "## Setting up Training/Evaluation Environments:"
      ]
    },
    {
      "cell_type": "code",
      "source": [
        "### ------------- MAKE CHANGES TO THE ROAD RANDOMIZATION PARAMS HERE ------- ###\n",
        "# Difficulty levels for curriculum learning\n",
        "road_randomization_params_levels = {\n",
        "    1: {\n",
        "        'num_elements_range': (4, 8),\n",
        "        'straight_length_range': (150.0, 300.0),\n",
        "        'curvature_range': (-1/1000.0, 1/1000.0),\n",
        "        'angle_range': (5.0, 15.0),\n",
        "    },\n",
        "    2: {\n",
        "        'num_elements_range': (5, 10),\n",
        "        'straight_length_range': (100.0, 200.0),\n",
        "        'curvature_range': (-1/800.0, 1/800.0),\n",
        "        'angle_range': (10.0, 30.0),\n",
        "    },\n",
        "    3: {\n",
        "        'num_elements_range': (10, 12),\n",
        "        'straight_length_range': (80.0, 150.0),\n",
        "        'curvature_range': (-1/500.0, 1/500.0),\n",
        "        'angle_range': (20.0, 45.0),\n",
        "    },\n",
        "    4: {\n",
        "        'num_elements_range': (12, 17),\n",
        "        'straight_length_range': (60.0, 120.0),\n",
        "        'curvature_range': (-1/300.0, 1/300.0),\n",
        "        'angle_range': (30.0, 60.0),\n",
        "    },\n",
        "    5: {\n",
        "        'num_elements_range': (16,18),\n",
        "        'straight_length_range': (50.0, 100.0),\n",
        "        'curvature_range': (-1/200.0, 1/200.0),\n",
        "        'angle_range': (45.0, 90.0),\n",
        "    },\n",
        "    6: {\n",
        "        'num_elements_range': (18, 20),             # More road elements\n",
        "        'straight_length_range': (50.0, 100.0),   # Shorter straight segments\n",
        "        'curvature_range': (-1/100.0, 1/100.0),   # Tighter curves\n",
        "        'angle_range': (30.0, 70.0)               # More aggressive curves with wider angle range\n",
        "    }}"
      ],
      "metadata": {
        "id": "JOBScBhy__f2"
      },
      "execution_count": 80,
      "outputs": []
    },
    {
      "cell_type": "code",
      "source": [
        "# Define a fixed, difficult road for evaluation\n",
        "road_elements_list_difficult = [\n",
        "    {\"type\": \"straight\", \"length\": 50.0},\n",
        "    {\"type\": \"curved\", \"curvature\": 1/300.0, \"angle_in_degrees\": 90.0},\n",
        "    {\"type\": \"straight\", \"length\": 50.0},\n",
        "    {\"type\": \"curved\", \"curvature\": -1/200.0, \"angle_in_degrees\": 120.0},\n",
        "    {\"type\": \"straight\", \"length\": 50.0},\n",
        "    {\"type\": \"straight\", \"length\": 50.0},\n",
        "    {\"type\": \"curved\", \"curvature\": 1/300.0, \"angle_in_degrees\": 90.0},\n",
        "    {\"type\": \"straight\", \"length\": 50.0},\n",
        "    {\"type\": \"curved\", \"curvature\": -1/200.0, \"angle_in_degrees\": 120.0},\n",
        "    {\"type\": \"straight\", \"length\": 50.0},\n",
        "    {\"type\": \"straight\", \"length\": 50.0},\n",
        "    {\"type\": \"curved\", \"curvature\": 1/300.0, \"angle_in_degrees\": 90.0},\n",
        "    {\"type\": \"straight\", \"length\": 50.0},\n",
        "    {\"type\": \"curved\", \"curvature\": -1/200.0, \"angle_in_degrees\": 120.0},\n",
        "    {\"type\": \"straight\", \"length\": 50.0},\n",
        "    {\"type\": \"straight\", \"length\": 50.0},\n",
        "    {\"type\": \"curved\", \"curvature\": 1/300.0, \"angle_in_degrees\": 90.0},\n",
        "    {\"type\": \"straight\", \"length\": 50.0},\n",
        "    {\"type\": \"curved\", \"curvature\": -1/200.0, \"angle_in_degrees\": 120.0},\n",
        "    {\"type\": \"straight\", \"length\": 50.0},\n",
        "]\n",
        "\n",
        "# Create the evaluation environment with the fixed difficult road\n",
        "eval_env = create_env(None, road_elements_list_difficult)\n",
        "\n",
        "# Render the road\n",
        "eval_env.render_matplotlib_init_figure()\n",
        "eval_env.render_matplotlib_plot_road()\n",
        "plt.show()"
      ],
      "metadata": {
        "colab": {
          "base_uri": "https://localhost:8080/",
          "height": 378
        },
        "id": "M7gJz_mHSw-B",
        "outputId": "72c85ada-a303-4bf2-af5f-1b15ec3db617"
      },
      "execution_count": 81,
      "outputs": [
        {
          "output_type": "stream",
          "name": "stderr",
          "text": [
            "/usr/local/lib/python3.10/dist-packages/gymnasium/core.py:311: UserWarning: \u001b[33mWARN: env.render_matplotlib_init_figure to get variables from other wrappers is deprecated and will be removed in v1.0, to get this variable you can do `env.unwrapped.render_matplotlib_init_figure` for environment variables or `env.get_wrapper_attr('render_matplotlib_init_figure')` that will search the reminding wrappers.\u001b[0m\n",
            "  logger.warn(\n",
            "/usr/local/lib/python3.10/dist-packages/gymnasium/core.py:311: UserWarning: \u001b[33mWARN: env.render_matplotlib_plot_road to get variables from other wrappers is deprecated and will be removed in v1.0, to get this variable you can do `env.unwrapped.render_matplotlib_plot_road` for environment variables or `env.get_wrapper_attr('render_matplotlib_plot_road')` that will search the reminding wrappers.\u001b[0m\n",
            "  logger.warn(\n"
          ]
        },
        {
          "output_type": "display_data",
          "data": {
            "text/plain": [
              "<Figure size 640x480 with 1 Axes>"
            ],
            "image/png": "[encoded data removed]"
          },
          "metadata": {}
        }
      ]
    },
    {
      "cell_type": "markdown",
      "source": [
        "## Set up the RTI-MPC Policy\n"
      ],
      "metadata": {
        "id": "ldotx_MgT4pR"
      }
    },
    {
      "cell_type": "code",
      "source": [
        "# Create the training environment for this level\n",
        "train_env_mpc = create_env(road_randomization_params=road_randomization_params_levels[6])\n",
        "train_env_mpc = DomainRandomizationWrapper(train_env_mpc, road_randomization_params=road_randomization_params_levels[6])\n",
        "\n",
        "# Specify the policy name as a string\n",
        "policy_name = \"mpc\"\n",
        "\n",
        "# Create the directories where the figures are saved\n",
        "mpc_figs = f\"models/mpc/eval\"\n",
        "\n",
        "logdir = \"logs\"\n",
        "file_name_suffix = \"example\"\n",
        "\n",
        "# Create directory\n",
        "ensure_dir(mpc_figs)\n",
        "\n",
        "Nsim = 5000\n",
        "Q = np.array([0., 100., 10., 5])       # 4x1 column vector\n",
        "R = np.array([1., 1.])                 # 2x1 column vector\n",
        "\n",
        "s_lower = np.array([[0.], [-5.], [np.deg2rad(2)], [80 / 3.6]])  # 4x1 column vector\n",
        "s_upper = np.array([[np.inf], [5.], [np.deg2rad(2)], [120 / 3.6]])  # 4x1 column vector\n",
        "state_ref = np.array([[0.], [0.], [0.], [100 / 3.6]])           # 4x1 column vector\n",
        "\n",
        "# Initialize from environment observations\n",
        "obs, info = train_env_mpc.reset()\n",
        "p_init = obs[\"road_progress_at_closest_point\"][0]\n",
        "d_init = obs[\"distance_to_closest_point\"][0]\n",
        "mu_init = obs[\"heading_angle_relative_to_line\"][0]\n",
        "v_init = obs[\"vx_sensor\"][0]\n",
        "\n",
        "s_initial = np.array([[p_init], [d_init], [mu_init], [v_init]])  # 4x1 column vector\n",
        "sim_seed = 69\n",
        "\n",
        "mpc = RTIMPC(bicycle_model_parameters, Q, R,\n",
        "                 s_initial, s_lower, s_upper, 0.05,\n",
        "              Nsim, state_ref, train_env_mpc)\n",
        "\n",
        "sim_time_series_dict = simulate_policy(train_env_mpc, Nsim, mpc, seed=sim_seed, verbose=1)\n",
        "plot_details_list = plot_results_from_time_series_dict(train_env_mpc, sim_time_series_dict, mpc_figs, file_name_suffix, should_plot_reward=False)\n"
      ],
      "metadata": {
        "colab": {
          "base_uri": "https://localhost:8080/",
          "height": 460
        },
        "id": "teVZIcs_PFMu",
        "outputId": "9f779c91-df09-415f-a8ae-aaeae22723ef"
      },
      "execution_count": null,
      "outputs": [
        {
          "output_type": "stream",
          "name": "stdout",
          "text": [
            "\n",
            "\n",
            "Now starting simulation.\n"
          ]
        },
        {
          "output_type": "error",
          "ename": "ValueError",
          "evalue": "QSQP did not solve the problem",
          "traceback": [
            "\u001b[0;31m---------------------------------------------------------------------------\u001b[0m",
            "\u001b[0;31mValueError\u001b[0m                                Traceback (most recent call last)",
            "\u001b[0;32m<ipython-input-70-d9821142e79e>\u001b[0m in \u001b[0;36m<cell line: 39>\u001b[0;34m()\u001b[0m\n\u001b[1;32m     37\u001b[0m               Nsim, state_ref, train_env_mpc)\n\u001b[1;32m     38\u001b[0m \u001b[0;34m\u001b[0m\u001b[0m\n\u001b[0;32m---> 39\u001b[0;31m \u001b[0msim_time_series_dict\u001b[0m \u001b[0;34m=\u001b[0m \u001b[0msimulate_policy\u001b[0m\u001b[0;34m(\u001b[0m\u001b[0mtrain_env_mpc\u001b[0m\u001b[0;34m,\u001b[0m \u001b[0mNsim\u001b[0m\u001b[0;34m,\u001b[0m \u001b[0mmpc\u001b[0m\u001b[0;34m,\u001b[0m \u001b[0mseed\u001b[0m\u001b[0;34m=\u001b[0m\u001b[0msim_seed\u001b[0m\u001b[0;34m,\u001b[0m \u001b[0mverbose\u001b[0m\u001b[0;34m=\u001b[0m\u001b[0;36m1\u001b[0m\u001b[0;34m)\u001b[0m\u001b[0;34m\u001b[0m\u001b[0;34m\u001b[0m\u001b[0m\n\u001b[0m\u001b[1;32m     40\u001b[0m \u001b[0mplot_details_list\u001b[0m \u001b[0;34m=\u001b[0m \u001b[0mplot_results_from_time_series_dict\u001b[0m\u001b[0;34m(\u001b[0m\u001b[0mtrain_env_mpc\u001b[0m\u001b[0;34m,\u001b[0m \u001b[0msim_time_series_dict\u001b[0m\u001b[0;34m,\u001b[0m \u001b[0mmpc_figs\u001b[0m\u001b[0;34m,\u001b[0m \u001b[0mfile_name_suffix\u001b[0m\u001b[0;34m,\u001b[0m \u001b[0mshould_plot_reward\u001b[0m\u001b[0;34m=\u001b[0m\u001b[0;32mFalse\u001b[0m\u001b[0;34m)\u001b[0m\u001b[0;34m\u001b[0m\u001b[0;34m\u001b[0m\u001b[0m\n",
            "\u001b[0;32m/content/ai4r-gym/evaluation/evaluation_for_autonomous_driving.py\u001b[0m in \u001b[0;36msimulate_policy\u001b[0;34m(env, N_sim, policy, seed, should_save_look_ahead_results, should_save_observations, verbose)\u001b[0m\n\u001b[1;32m    111\u001b[0m     \u001b[0;32mfor\u001b[0m \u001b[0mi_step\u001b[0m \u001b[0;32min\u001b[0m \u001b[0mrange\u001b[0m\u001b[0;34m(\u001b[0m\u001b[0mN_sim\u001b[0m\u001b[0;34m)\u001b[0m\u001b[0;34m:\u001b[0m\u001b[0;34m\u001b[0m\u001b[0;34m\u001b[0m\u001b[0m\n\u001b[1;32m    112\u001b[0m         \u001b[0;31m# Compute the action to apply at this time step\u001b[0m\u001b[0;34m\u001b[0m\u001b[0;34m\u001b[0m\u001b[0m\n\u001b[0;32m--> 113\u001b[0;31m         \u001b[0maction\u001b[0m \u001b[0;34m=\u001b[0m \u001b[0mpolicy\u001b[0m\u001b[0;34m.\u001b[0m\u001b[0mcompute_action\u001b[0m\u001b[0;34m(\u001b[0m\u001b[0mobservation\u001b[0m\u001b[0;34m,\u001b[0m \u001b[0minfo_dict\u001b[0m\u001b[0;34m,\u001b[0m \u001b[0msim_terminated\u001b[0m\u001b[0;34m,\u001b[0m \u001b[0msim_truncated\u001b[0m\u001b[0;34m)\u001b[0m\u001b[0;34m\u001b[0m\u001b[0;34m\u001b[0m\u001b[0m\n\u001b[0m\u001b[1;32m    114\u001b[0m         \u001b[0;31m# Step forward the gymnasium\u001b[0m\u001b[0;34m\u001b[0m\u001b[0;34m\u001b[0m\u001b[0m\n\u001b[1;32m    115\u001b[0m         \u001b[0;31m# > This also updates the \"current_ground_truth\" dictionary within the environment\u001b[0m\u001b[0;34m\u001b[0m\u001b[0;34m\u001b[0m\u001b[0m\n",
            "\u001b[0;32m<ipython-input-9-b3548776387d>\u001b[0m in \u001b[0;36mcompute_action\u001b[0;34m(self, observation, info_dict, terminated, truncated)\u001b[0m\n\u001b[1;32m    129\u001b[0m \u001b[0;34m\u001b[0m\u001b[0m\n\u001b[1;32m    130\u001b[0m       \u001b[0;32mif\u001b[0m \u001b[0mres\u001b[0m\u001b[0;34m.\u001b[0m\u001b[0minfo\u001b[0m\u001b[0;34m.\u001b[0m\u001b[0mstatus\u001b[0m \u001b[0;34m!=\u001b[0m \u001b[0;34m'solved'\u001b[0m\u001b[0;34m:\u001b[0m\u001b[0;34m\u001b[0m\u001b[0;34m\u001b[0m\u001b[0m\n\u001b[0;32m--> 131\u001b[0;31m         \u001b[0;32mraise\u001b[0m \u001b[0mValueError\u001b[0m\u001b[0;34m(\u001b[0m\u001b[0;34m'QSQP did not solve the problem'\u001b[0m\u001b[0;34m)\u001b[0m\u001b[0;34m\u001b[0m\u001b[0;34m\u001b[0m\u001b[0m\n\u001b[0m\u001b[1;32m    132\u001b[0m \u001b[0;34m\u001b[0m\u001b[0m\n\u001b[1;32m    133\u001b[0m       \u001b[0;31m# Update the constraint vector with the current state\u001b[0m\u001b[0;34m\u001b[0m\u001b[0;34m\u001b[0m\u001b[0m\n",
            "\u001b[0;31mValueError\u001b[0m: QSQP did not solve the problem"
          ]
        }
      ]
    },
    {
      "cell_type": "markdown",
      "metadata": {
        "id": "QKv3poDd5dXv"
      },
      "source": [
        "## Model Definition and Training (SAC Policy):"
      ]
    },
    {
      "cell_type": "code",
      "execution_count": 1,
      "metadata": {
        "colab": {
          "base_uri": "https://localhost:8080/",
          "height": 399
        },
        "id": "xrzFGEiQ5dXv",
        "outputId": "3f366d6e-b032-4f06-8278-7264fac60948"
      },
      "outputs": [
        {
          "output_type": "error",
          "ename": "ModuleNotFoundError",
          "evalue": "No module named 'stable_baselines3'",
          "traceback": [
            "\u001b[0;31m---------------------------------------------------------------------------\u001b[0m",
            "\u001b[0;31mModuleNotFoundError\u001b[0m                       Traceback (most recent call last)",
            "\u001b[0;32m<ipython-input-1-7ec67cfe1249>\u001b[0m in \u001b[0;36m<cell line: 1>\u001b[0;34m()\u001b[0m\n\u001b[0;32m----> 1\u001b[0;31m \u001b[0;32mfrom\u001b[0m \u001b[0mstable_baselines3\u001b[0m \u001b[0;32mimport\u001b[0m \u001b[0mSAC\u001b[0m\u001b[0;34m\u001b[0m\u001b[0;34m\u001b[0m\u001b[0m\n\u001b[0m\u001b[1;32m      2\u001b[0m \u001b[0;31m# import math\u001b[0m\u001b[0;34m\u001b[0m\u001b[0;34m\u001b[0m\u001b[0m\n\u001b[1;32m      3\u001b[0m \u001b[0mmodel_name\u001b[0m \u001b[0;34m=\u001b[0m \u001b[0;34m\"baseline_model\"\u001b[0m\u001b[0;34m\u001b[0m\u001b[0;34m\u001b[0m\u001b[0m\n\u001b[1;32m      4\u001b[0m \u001b[0;34m\u001b[0m\u001b[0m\n\u001b[1;32m      5\u001b[0m \u001b[0mTIMESTEPS_PER_EPOCH\u001b[0m \u001b[0;34m=\u001b[0m \u001b[0;36m10000\u001b[0m\u001b[0;34m\u001b[0m\u001b[0;34m\u001b[0m\u001b[0m\n",
            "\u001b[0;31mModuleNotFoundError\u001b[0m: No module named 'stable_baselines3'",
            "",
            "\u001b[0;31m---------------------------------------------------------------------------\u001b[0;32m\nNOTE: If your import is failing due to a missing package, you can\nmanually install dependencies using either !pip or !apt.\n\nTo view examples of installing some common dependencies, click the\n\"Open Examples\" button below.\n\u001b[0;31m---------------------------------------------------------------------------\u001b[0m\n"
          ],
          "errorDetails": {
            "actions": [
              {
                "action": "open_url",
                "actionText": "Open Examples",
                "url": "/notebooks/snippets/importing_libraries.ipynb"
              }
            ]
          }
        }
      ],
      "source": [
        "from stable_baselines3 import SAC\n",
        "# import math\n",
        "model_name = \"baseline_model\"\n",
        "\n",
        "TIMESTEPS_PER_EPOCH = 10000\n",
        "TOTAL_EPOCHS = 32\n",
        "\n",
        "logdir = \"logs\"\n",
        "models_dir = f\"models/{model_name}\"\n",
        "figs_dir_train = f\"models/{model_name}/figs_train\"\n",
        "figs_dir_test = f\"models/{model_name}/figs_test\"\n",
        "\n",
        "ensure_dirs([logdir, models_dir, figs_dir_train, figs_dir_test])\n",
        "\n",
        "# Calculate epochs per level\n",
        "levels = sorted(road_randomization_params_levels.keys())\n",
        "EPOCHS_PER_LEVEL = TOTAL_EPOCHS // len(levels)\n",
        "\n",
        "current_epoch = 0\n",
        "\n",
        "# Start training loop over difficulty levels\n",
        "for idx, level in enumerate(levels):\n",
        "    print(f\"Training on difficulty level {level}\")\n",
        "    road_randomization_params = road_randomization_params_levels[level]\n",
        "\n",
        "    # Create the training environment for this level\n",
        "    train_env = create_env(road_randomization_params=road_randomization_params)\n",
        "    train_env = DomainRandomizationWrapper(train_env, road_randomization_params = road_randomization_params)\n",
        "    train_env = BaselinePolicyRewardWrapper(train_env)\n",
        "\n",
        "    if idx == 0:\n",
        "\n",
        "      sac_params = {\n",
        "            \"learning_rate\": 3e-4,\n",
        "            \"buffer_size\": int(1e6),    # Replay buffer size\n",
        "            \"batch_size\": 4096,         # Batch size\n",
        "            \"gamma\": 0.98,              # Discount factor\n",
        "            \"tau\": 0.005,               # Polyak averaging for target networks\n",
        "            \"target_entropy\": \"auto\",   # Automatic entropy tuning\n",
        "            \"train_freq\": 1,            # Train every step\n",
        "            \"gradient_steps\": 1,        # Gradient steps per training step\n",
        "        }\n",
        "\n",
        "      # Define RL model\n",
        "      baseline_model = SAC(\"MultiInputPolicy\", train_env,\n",
        "              **sac_params,\n",
        "              verbose = 1,\n",
        "              tensorboard_log=logdir)\n",
        "      # For subsequent levels, set the new environment\n",
        "      baseline_model.set_env(train_env)\n",
        "\n",
        "    for epoch in range(1, EPOCHS_PER_LEVEL + 1):\n",
        "        current_epoch += 1\n",
        "        print(f\"Epoch {current_epoch}/{TOTAL_EPOCHS} at difficulty level {level}\")\n",
        "\n",
        "        baseline_model.learn(\n",
        "            total_timesteps=TIMESTEPS_PER_EPOCH,\n",
        "            reset_num_timesteps=False,\n",
        "            tb_log_name=f\"{model_name}\"\n",
        "        )\n",
        "        baseline_model.save(f\"{models_dir}/{TIMESTEPS_PER_EPOCH * (current_epoch)}\")\n",
        "\n",
        "        # Evaluate on the most recent training road\n",
        "        eval_model(train_env, baseline_model, figs_dir_train, TIMESTEPS_PER_EPOCH * current_epoch, max_steps=50000)\n",
        "\n",
        "    # Close the training environment before moving to the next level\n",
        "    train_env.close()\n",
        "\n",
        "# Evaluate on evaluation road\n",
        "eval_model(eval_env, baseline_model, figs_dir_test, TIMESTEPS_PER_EPOCH * current_epoch, max_steps=50000)\n",
        "\n",
        "# After training, save the final model\n",
        "baseline_model.save(f\"{models_dir}/final_model\")"
      ]
    },
    {
      "cell_type": "markdown",
      "source": [
        "## Save Model Figures"
      ],
      "metadata": {
        "id": "aS24DinBS7NX"
      }
    },
    {
      "cell_type": "code",
      "execution_count": null,
      "metadata": {
        "id": "VWuXezgt5dXx"
      },
      "outputs": [],
      "source": [
        "model_name = \"PPO_dr_long\"\n",
        "model_idx = 950000\n",
        "\n",
        "path_for_saving_figures = f\"models/{model_name}/eval\"\n",
        "ensure_dir(path_for_saving_figures)"
      ]
    },
    {
      "cell_type": "markdown",
      "metadata": {
        "id": "Dg3ijXbq5dXx"
      },
      "source": [
        "### Put the RL model into a policy class with a 'standardize' interface"
      ]
    },
    {
      "cell_type": "code",
      "execution_count": null,
      "metadata": {
        "id": "iBLsDu7O5dXx"
      },
      "outputs": [],
      "source": [
        "from policies.rl_policy import RLPolicy\n",
        "\n",
        "# Put the RL model into a policy class\n",
        "rl_policy = RLPolicy(model)"
      ]
    },
    {
      "cell_type": "markdown",
      "metadata": {
        "id": "j4uQMFil5dXx"
      },
      "source": [
        "### Perform One simulation of the policy, plot the time series results:"
      ]
    },
    {
      "cell_type": "code",
      "execution_count": null,
      "metadata": {
        "id": "k801LKQB5dXy"
      },
      "outputs": [],
      "source": [
        "# Import the function for simulating the autonomous driving environment\n",
        "from evaluation.evaluation_for_autonomous_driving import simulate_policy\n",
        "from evaluation.evaluation_for_autonomous_driving import plot_results_from_time_series_dict\n",
        "\n",
        "# Specify the length of the simulation in time steps\n",
        "N_sim = 5000\n",
        "\n",
        "# Specify the seed for when the simulate function resets the random number generator\n",
        "sim_seed = 1;\n",
        "\n",
        "# Call the function for simulating a given RL model\n",
        "sim_time_series_dict = simulate_policy(eval_env, N_sim, rl_policy, seed=sim_seed, verbose=1)\n",
        "\n",
        "# Call the plotting function\n",
        "file_name_suffix = \"example\"\n",
        "plot_details_list = plot_results_from_time_series_dict(eval_env, sim_time_series_dict, path_for_saving_figures, file_name_suffix, should_plot_reward=True)"
      ]
    },
    {
      "cell_type": "markdown",
      "metadata": {
        "id": "SYPoArlD5dXy"
      },
      "source": [
        "### Animate the time series results:"
      ]
    },
    {
      "cell_type": "code",
      "execution_count": null,
      "metadata": {
        "id": "REFJ7Z4i5dXz"
      },
      "outputs": [],
      "source": [
        "def animate_from_sim_time_series_dict(sim_time_series_dict, Ts, path_for_saving_figures):\n",
        "    # Extract the necessary trajectory information from the \"sim_time_series_dict\"\n",
        "    px_traj    = sim_time_series_dict[\"px\"]\n",
        "    py_traj    = sim_time_series_dict[\"py\"]\n",
        "    theta_traj = sim_time_series_dict[\"theta\"]\n",
        "    delta_traj = sim_time_series_dict[\"delta\"]\n",
        "    # Call the environments function to create the simulation\n",
        "    ani = eval_env.unwrapped.render_matplotlib_animation_of_trajectory(px_traj, py_traj, theta_traj, delta_traj, Ts, traj_increment=3)\n",
        "    # Save the animation\n",
        "    ani.save(f\"{path_for_saving_figures}/trajectory_animation.gif\")\n",
        "    print(f'Saved animation at {path_for_saving_figures}/trajectory_animation.gif')\n",
        "    # Return the animation object\n",
        "    return ani"
      ]
    },
    {
      "cell_type": "code",
      "execution_count": null,
      "metadata": {
        "id": "E30EwT8x5dXz"
      },
      "outputs": [],
      "source": [
        "# Call the animation functoin\n",
        "ani = animate_from_sim_time_series_dict(sim_time_series_dict, numerical_integration_parameters[\"Ts\"], path_for_saving_figures)\n",
        "# Display the animation\n",
        "from IPython.display import HTML\n",
        "HTML(ani.to_jshtml())"
      ]
    },
    {
      "cell_type": "markdown",
      "metadata": {
        "id": "dRjxApzo5dX0"
      },
      "source": [
        "### Define a performance Metrics Function per simulation time series:"
      ]
    },
    {
      "cell_type": "code",
      "execution_count": null,
      "metadata": {
        "id": "5W0WARAk5dX0"
      },
      "outputs": [],
      "source": [
        "def compute_performance_metrics_from_time_series(sim_time_series_dict):\n",
        "    # Compute the statistics of the distance to the line\n",
        "    abs_dist_to_line_time_series = np.abs(sim_time_series_dict[\"distance_to_closest_point\"])\n",
        "    avg_dist  = np.nanmean(abs_dist_to_line_time_series)\n",
        "    std_dist  = np.nanstd(abs_dist_to_line_time_series)\n",
        "    max_dist  = np.nanmax(abs_dist_to_line_time_series)\n",
        "\n",
        "    # Compute the statistics of the speed in the forward direction (i.e., the body-frame x-axis direction)\n",
        "    speed_time_series = np.abs(sim_time_series_dict[\"vx\"])\n",
        "    avg_speed = np.nanmean(speed_time_series)\n",
        "    std_speed = np.nanstd(speed_time_series)\n",
        "    max_speed = np.nanmax(speed_time_series)\n",
        "    min_speed = np.nanmin(speed_time_series)\n",
        "\n",
        "    # Return the results\n",
        "    return {\n",
        "        \"avg_dist\"   :  avg_dist,\n",
        "        \"std_dist\"   :  std_dist,\n",
        "        \"max_dist\"   :  max_dist,\n",
        "        \"avg_speed\"  :  avg_speed * 3.6,\n",
        "        \"std_speed\"  :  std_speed * 3.6,\n",
        "        \"max_speed\"  :  max_speed * 3.6,\n",
        "        \"min_speed\"  :  min_speed * 3.6,\n",
        "    }\n"
      ]
    },
    {
      "cell_type": "markdown",
      "metadata": {
        "id": "805EOM0h5dX0"
      },
      "source": [
        "### Run the Performance Metric Function for one simulation:"
      ]
    },
    {
      "cell_type": "code",
      "execution_count": null,
      "metadata": {
        "id": "UA-grx-Q5dX1"
      },
      "outputs": [],
      "source": [
        "# Simulate with the same seed as above to check that it gets the results consistent\n",
        "sim_seed = 1;\n",
        "sim_time_series_dict = simulate_policy(eval_env, N_sim, rl_policy, seed=sim_seed, verbose=1)\n",
        "\n",
        "# Call the function for computing the performance metrics\n",
        "pm_dict = compute_performance_metrics_from_time_series(sim_time_series_dict)\n",
        "\n",
        "# Display the performance metric values\n",
        "print(\"Performance Metric dictionary:\")\n",
        "print(pm_dict)"
      ]
    }
  ],
  "metadata": {
    "kernelspec": {
      "display_name": "Python 3",
      "language": "python",
      "name": "python3"
    },
    "language_info": {
      "codemirror_mode": {
        "name": "ipython",
        "version": 3
      },
      "file_extension": ".py",
      "mimetype": "text/x-python",
      "name": "python",
      "nbconvert_exporter": "python",
      "pygments_lexer": "ipython3",
      "version": "3.9.16"
    },
    "colab": {
      "provenance": [],
      "include_colab_link": true
    }
  },
  "nbformat": 4,
  "nbformat_minor": 0
}